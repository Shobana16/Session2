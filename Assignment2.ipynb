{
 "cells": [
  {
   "cell_type": "markdown",
   "metadata": {},
   "source": [
    "Task 1"
   ]
  },
  {
   "cell_type": "markdown",
   "metadata": {},
   "source": [
    "1.1\n",
    "Write a Python Program to implement your own myreduce() function which works exactly like\n",
    "Python's built-in function reduce()"
   ]
  },
  {
   "cell_type": "code",
   "execution_count": 2,
   "metadata": {},
   "outputs": [
    {
     "name": "stdout",
     "output_type": "stream",
     "text": [
      "15\n",
      "150\n"
     ]
    }
   ],
   "source": [
    "def myreduce(function, iterable):\n",
    "    it = iter(iterable)\n",
    "    accumulator = next(it)\n",
    "    for x in it:\n",
    "        accumulator = function(accumulator, x)\n",
    "    return accumulator\n",
    "\n",
    "\n",
    "mylist = [2, 3, 5, 5]\n",
    "print(myreduce(lambda x, y: x+y, mylist))\n",
    "print(myreduce(lambda x, y: x*y, mylist))"
   ]
  },
  {
   "cell_type": "markdown",
   "metadata": {},
   "source": [
    "1.2\n",
    "Write a Python program to implement your own myfilter() function which works exactly like\n",
    "Python's built-in function filter()"
   ]
  },
  {
   "cell_type": "code",
   "execution_count": 3,
   "metadata": {},
   "outputs": [
    {
     "name": "stdout",
     "output_type": "stream",
     "text": [
      "[2, 4, 6, 8]\n"
     ]
    }
   ],
   "source": [
    "\n",
    "def myfilter(function, iterable):\n",
    "    return function(iterable)\n",
    "\n",
    "\n",
    "def check_even(list):\n",
    "    even = []\n",
    "    for l in list:\n",
    "        if l % 2 == 0:\n",
    "            even.append(l)\n",
    "    return even\n",
    "\n",
    "\n",
    "print(myfilter(check_even, list(range(1, 10))))"
   ]
  },
  {
   "cell_type": "markdown",
   "metadata": {},
   "source": [
    "2.\n",
    "Implement List comprehensions to produce the following lists.\n",
    "Write List comprehensions to produce the following Lists\n",
    "['A', 'C', 'A', 'D', 'G', 'I', ’L’, ‘ D’]\n",
    "\n",
    "['x', 'xx', 'xxx', 'xxxx', 'y', 'yy', 'yyy', 'yyyy', 'z', 'zz', 'zzz', 'zzzz']\n",
    "\n",
    "['x', 'y', 'z', 'xx', 'yy', 'zz', 'xxx', 'yyy', 'zzz', 'xxxx', 'yyyy', 'zzzz']\n",
    "\n",
    "[[2], [3], [4], [3], [4], [5], [4], [5], [6]]\n",
    "\n",
    "[[2, 3, 4, 5], [3, 4, 5, 6], [4, 5, 6, 7], [5, 6, 7, 8]]\n",
    "\n",
    "[(1, 1), (2, 1), (3, 1), (1, 2), (2, 2), (3, 2), (1, 3), (2, 3), (3, 3)]\n"
   ]
  },
  {
   "cell_type": "code",
   "execution_count": 7,
   "metadata": {},
   "outputs": [
    {
     "name": "stdout",
     "output_type": "stream",
     "text": [
      "['A', 'C', 'A', 'D', 'G', 'I', 'L', 'D']\n",
      "['x', 'xx', 'xxx', 'xxxx', 'y', 'yy', 'yyy', 'yyyy', 'z', 'zz', 'zzz', 'zzzz']\n",
      "['x', 'y', 'z', 'xx', 'yy', 'zz', 'xxx', 'yyy', 'zzz', 'xxxx', 'yyyy', 'zzzz']\n",
      "[[2], [3], [4], [3], [4], [5], [4], [5], [6]]\n",
      "[[2, 3, 4, 5], [3, 4, 5, 6], [4, 5, 6, 7], [5, 6, 7, 8]]\n",
      "[(1, 1), (2, 1), (3, 1), (1, 2), (2, 2), (3, 2), (1, 3), (2, 3), (3, 3)]\n"
     ]
    }
   ],
   "source": [
    "str1 = 'ACADGILD'\n",
    "list1 = [l_str for l_str in str1]\n",
    "print(list1)\n",
    "\n",
    "str2 = 'xyz'\n",
    "list2 = [j*i for j in str2 for i in range(1, 5)]\n",
    "print(list2)\n",
    "\n",
    "list3 = [j*i for i in range(1, 5) for j in 'xyz']\n",
    "print(list3)\n",
    "\n",
    "list4 = [[i+j] for i in range(2, 5) for j in range (0, 3)]\n",
    "print(list4)\n",
    "\n",
    "list5 = [[i + j for i in range(2, 6)] for j in range(0, 4)]\n",
    "print(list5)\n",
    "\n",
    "list6 = [(i, j) for j in range(1, 4) for i in range(1, 4)]\n",
    "print(list6)"
   ]
  },
  {
   "cell_type": "markdown",
   "metadata": {},
   "source": [
    "3.\n",
    "Implement a function longestWord() that takes a list of words and returns the longest one.\n"
   ]
  },
  {
   "cell_type": "code",
   "execution_count": 1,
   "metadata": {},
   "outputs": [
    {
     "name": "stdout",
     "output_type": "stream",
     "text": [
      "Enter number of words to be added to list: 4\n",
      "Enter a word: shobana\n",
      "Enter a word: devi\n",
      "Enter a word: hello\n",
      "Enter a word: acadgild\n",
      "acadgild\n"
     ]
    }
   ],
   "source": [
    "def longestWord(wordList):\n",
    "    word_dict = {word: len(word) for word in wordList}\n",
    "    for word, word_len in word_dict.items():\n",
    "        if word_len == max(word_dict.values()):\n",
    "            return word\n",
    "\n",
    "\n",
    "wordList = []\n",
    "num = int(input(\"Enter number of words to be added to list: \"))\n",
    "for i in range(num):\n",
    "    word = input(\"Enter a word: \")\n",
    "    wordList.append(word)\n",
    "\n",
    "print(longestWord(wordList))"
   ]
  },
  {
   "cell_type": "markdown",
   "metadata": {},
   "source": [
    "Task 2"
   ]
  },
  {
   "cell_type": "markdown",
   "metadata": {},
   "source": [
    "1.1\n",
    "Write a Python Program(with class concepts) to find the area of the triangle using the below\n",
    "formula.\n",
    "area = (s*(s-a)*(s-b)*(s-c)) ** 0.5\n",
    "Function to take the length of the sides of triangle from user should be defined in the parent\n",
    "class and function to calculate the area should be defined in subclass."
   ]
  },
  {
   "cell_type": "code",
   "execution_count": 4,
   "metadata": {},
   "outputs": [
    {
     "name": "stdout",
     "output_type": "stream",
     "text": [
      "Enter sides: \n",
      "5\n",
      "3\n",
      "4\n",
      "6.0\n"
     ]
    }
   ],
   "source": [
    "class Triangle:\n",
    "\n",
    "    def __init__(self):\n",
    "        self.a = 0\n",
    "        self.b = 0\n",
    "        self.c = 0\n",
    "        self.s = 0\n",
    "\n",
    "    def lengthofsides(self):\n",
    "        print(\"Enter sides: \")\n",
    "        self.a = int(input())\n",
    "        self.b = int(input())\n",
    "        self.c = int(input())\n",
    "        self.s = (self.a+self.b+self.c)/2\n",
    "\n",
    "\n",
    "class Area(Triangle):\n",
    "\n",
    "    def areaoftriangle(self):\n",
    "        super().lengthofsides()\n",
    "        area = (self.s*(self.s-self.a)*(self.s-self.b)*(self.s-self.c)) ** 0.5\n",
    "        return area\n",
    "\n",
    "\n",
    "a = Area()\n",
    "print(a.areaoftriangle())\n"
   ]
  },
  {
   "cell_type": "markdown",
   "metadata": {},
   "source": [
    "1.2\n",
    "Write a function filter_long_words() that takes a list of words and an integer n and returns the list\n",
    "of words that are longer than n.\n"
   ]
  },
  {
   "cell_type": "code",
   "execution_count": 2,
   "metadata": {},
   "outputs": [
    {
     "name": "stdout",
     "output_type": "stream",
     "text": [
      "Enter number of words to be added: 5\n",
      "Enter a word: hello\n",
      "Enter a word: acadgild\n",
      "Enter a word: data science\n",
      "Enter a word: pandas\n",
      "Enter a word: pythonic\n",
      "Enter an integer to filter from list: 5\n",
      "acadgild\n",
      "data science\n",
      "pandas\n",
      "pythonic\n"
     ]
    }
   ],
   "source": [
    "def filter_long_words(words, num):\n",
    "    filter_words = []\n",
    "    words_dict = {word: len(word) for word in words}\n",
    "    for word, word_len in words_dict.items():\n",
    "        if word_len > num:\n",
    "            filter_words.append(word)\n",
    "    return filter_words\n",
    "\n",
    "\n",
    "n = int(input(\"Enter number of words to be added: \"))\n",
    "words = []\n",
    "for _ in range(n):\n",
    "    words.append(input(\"Enter a word: \"))\n",
    "\n",
    "num = int(input(\"Enter an integer to filter from list: \"))\n",
    "filtered_words = filter_long_words(words, num)\n",
    "for word in filtered_words:\n",
    "    print(word)"
   ]
  },
  {
   "cell_type": "markdown",
   "metadata": {},
   "source": [
    "2.1\n",
    "Write a Python program using function concept that maps list of words into a list of integers\n",
    "representing the lengths of the corresponding words.\n",
    "Hint: ​If a list [ ab,cde,erty] is passed on to the python function output should come as [2,3,4]\n",
    "Here 2,3 and 4 are the lengths of the words in the list.\n"
   ]
  },
  {
   "cell_type": "code",
   "execution_count": 3,
   "metadata": {},
   "outputs": [
    {
     "name": "stdout",
     "output_type": "stream",
     "text": [
      "Enter number of words to add into list: 3\n",
      "Enter a word: ab\n",
      "Enter a word: cde\n",
      "Enter a word: erty\n",
      "[2, 3, 4]\n"
     ]
    }
   ],
   "source": [
    "\n",
    "def wordsLength(words):\n",
    "    return len(words)\n",
    "\n",
    "\n",
    "words = []\n",
    "n = int(input(\"Enter number of words to add into list: \"))\n",
    "for _ in range(n):\n",
    "    words.append(input(\"Enter a word: \"))\n",
    "\n",
    "f = list(map(wordsLength, words))\n",
    "print(f)"
   ]
  },
  {
   "cell_type": "markdown",
   "metadata": {},
   "source": [
    "2.2\n",
    "Write a Python function which takes a character (i.e. a string of length 1) and returns True if it is\n",
    "a vowel, False otherwise.\n",
    "\n",
    "NOTE:​ ​The​ ​solution​ ​shared​ ​through​ ​Github​ ​should​ ​contain​ ​the​ ​source code​ ​used​ ​ and​\n",
    "​the​ ​screenshot​ ​of​ ​the​ ​output.\n"
   ]
  },
  {
   "cell_type": "code",
   "execution_count": 6,
   "metadata": {},
   "outputs": [
    {
     "name": "stdout",
     "output_type": "stream",
     "text": [
      "Enter a character: u\n",
      "True\n"
     ]
    }
   ],
   "source": [
    "\n",
    "\n",
    "def vowelCheck(char):\n",
    "    vowels = ['a', 'e', 'i', 'o', 'u']\n",
    "    if len(char) != 1:\n",
    "        return \"Enter only single character \"\n",
    "\n",
    "    if char.isalpha():\n",
    "        if char in vowels:\n",
    "            return True\n",
    "        else:\n",
    "            return False\n",
    "    else:\n",
    "        return \"Enter only alphabet\"\n",
    "\n",
    "\n",
    "c = input(\"Enter a character: \")\n",
    "print(vowelCheck(c))"
   ]
  }
 ],
 "metadata": {
  "kernelspec": {
   "display_name": "Python 3",
   "language": "python",
   "name": "python3"
  },
  "language_info": {
   "codemirror_mode": {
    "name": "ipython",
    "version": 3
   },
   "file_extension": ".py",
   "mimetype": "text/x-python",
   "name": "python",
   "nbconvert_exporter": "python",
   "pygments_lexer": "ipython3",
   "version": "3.6.5"
  }
 },
 "nbformat": 4,
 "nbformat_minor": 2
}
